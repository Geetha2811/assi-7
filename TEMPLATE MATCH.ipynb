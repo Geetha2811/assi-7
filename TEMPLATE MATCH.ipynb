{
 "cells": [
  {
   "cell_type": "code",
   "execution_count": 1,
   "id": "34b61c8b-5c26-4c76-abbf-1aeac6b4cf79",
   "metadata": {},
   "outputs": [],
   "source": [
    "import cv2 as c\n",
    "import numpy as np"
   ]
  },
  {
   "cell_type": "code",
   "execution_count": 2,
   "id": "6e6d3741-f7cb-4019-8551-2ba8f6d57bba",
   "metadata": {},
   "outputs": [],
   "source": [
    "img = c.imread(\"C:\\\\Users\\\\geetha\\\\Downloads\\\\2.jpg\")"
   ]
  },
  {
   "cell_type": "code",
   "execution_count": 3,
   "id": "3ef95bd6-51fb-42a8-8007-4044002a7b3b",
   "metadata": {},
   "outputs": [],
   "source": [
    "img_gray = c.cvtColor(img,c.COLOR_BGR2GRAY)"
   ]
  },
  {
   "cell_type": "code",
   "execution_count": 4,
   "id": "96626abe-e6d7-4efe-a5b1-f0e42b9c46ce",
   "metadata": {},
   "outputs": [],
   "source": [
    "temp = c.imread(\"C:\\\\Users\\\\geetha\\\\Downloads\\\\3.jpg\",0)"
   ]
  },
  {
   "cell_type": "code",
   "execution_count": 5,
   "id": "f64ed8b0-49b2-47a2-9a5d-fa6ac7766071",
   "metadata": {},
   "outputs": [],
   "source": [
    "c.imshow('Source',img)\n",
    "c.imshow('Template',temp)\n",
    "\n",
    "if c.waitKey(0)&0xff == 27:\n",
    "    c.destroyAllWindows()"
   ]
  },
  {
   "cell_type": "code",
   "execution_count": 6,
   "id": "25a0c146-9564-467e-af3b-fb264b2ca2fa",
   "metadata": {},
   "outputs": [
    {
     "name": "stdout",
     "output_type": "stream",
     "text": [
      "(124, 102)\n"
     ]
    }
   ],
   "source": [
    "print(temp.shape)"
   ]
  },
  {
   "cell_type": "code",
   "execution_count": 7,
   "id": "7ce38b17-4833-4fe3-99c2-509e24306d3c",
   "metadata": {},
   "outputs": [],
   "source": [
    "h, w = temp.shape"
   ]
  },
  {
   "cell_type": "code",
   "execution_count": 8,
   "id": "20c673a1-ddbc-4a00-9dde-24529c4b7954",
   "metadata": {},
   "outputs": [
    {
     "data": {
      "text/plain": [
       "102"
      ]
     },
     "execution_count": 8,
     "metadata": {},
     "output_type": "execute_result"
    }
   ],
   "source": [
    "w"
   ]
  },
  {
   "cell_type": "code",
   "execution_count": 9,
   "id": "92d9c05f-2aa2-4f86-9e8c-c6334f8c3d0e",
   "metadata": {},
   "outputs": [
    {
     "data": {
      "text/plain": [
       "124"
      ]
     },
     "execution_count": 9,
     "metadata": {},
     "output_type": "execute_result"
    }
   ],
   "source": [
    "h"
   ]
  },
  {
   "cell_type": "code",
   "execution_count": 10,
   "id": "05203741-e6eb-4f21-b531-0f07cf56ebcc",
   "metadata": {},
   "outputs": [],
   "source": [
    "mat = c.matchTemplate(img_gray,temp,c.TM_CCOEFF_NORMED)"
   ]
  },
  {
   "cell_type": "code",
   "execution_count": 11,
   "id": "ef9540ae-8516-464b-91c1-90df54a79e2f",
   "metadata": {},
   "outputs": [],
   "source": [
    "threshold = 0.7"
   ]
  },
  {
   "cell_type": "code",
   "execution_count": 13,
   "id": "b9259cc2-6214-491d-8a1b-5a592d16a78d",
   "metadata": {},
   "outputs": [],
   "source": [
    "location = np.where(mat >=threshold)"
   ]
  },
  {
   "cell_type": "code",
   "execution_count": 15,
   "id": "f3e5bbfa-3f1c-419e-bb1d-20d4bcab8a53",
   "metadata": {},
   "outputs": [],
   "source": [
    "for pt in zip (*location[::-1]):\n",
    "    c.rectangle(img, pt, (pt[0] + w, pt[1]  + h), (0,0,255),2)\n"
   ]
  },
  {
   "cell_type": "code",
   "execution_count": 16,
   "id": "5e9adc6c-99c2-49e9-944b-92415b894bcf",
   "metadata": {},
   "outputs": [],
   "source": [
    "c.imshow('Detected',img)\n",
    "if c.waitKey(0) & 0xff == 27:\n",
    "    c.destroyAllWindows()"
   ]
  },
  {
   "cell_type": "code",
   "execution_count": null,
   "id": "1a17a00b-0851-48d3-ab1c-a825cdff15d8",
   "metadata": {},
   "outputs": [],
   "source": []
  },
  {
   "cell_type": "code",
   "execution_count": null,
   "id": "b37886eb-92b1-4aa7-957a-622eb67d3e8f",
   "metadata": {},
   "outputs": [],
   "source": []
  },
  {
   "cell_type": "code",
   "execution_count": null,
   "id": "617b828b-422c-49aa-8d34-38f0f1fc7b20",
   "metadata": {},
   "outputs": [],
   "source": []
  },
  {
   "cell_type": "code",
   "execution_count": null,
   "id": "00cac363-0a64-4542-8434-c9b37863c4ae",
   "metadata": {},
   "outputs": [],
   "source": []
  },
  {
   "cell_type": "code",
   "execution_count": null,
   "id": "b1fe3736-73cb-49eb-9800-710554ccb1f7",
   "metadata": {},
   "outputs": [],
   "source": []
  },
  {
   "cell_type": "code",
   "execution_count": null,
   "id": "1a1f1be4-5b01-4df9-a56e-fe4e9b567b86",
   "metadata": {},
   "outputs": [],
   "source": []
  },
  {
   "cell_type": "code",
   "execution_count": null,
   "id": "6a849bef-7a94-4f5b-886d-b97ae2aa30ef",
   "metadata": {},
   "outputs": [],
   "source": []
  },
  {
   "cell_type": "code",
   "execution_count": null,
   "id": "9936e347-d4c3-4189-8d75-8db0e3ffa4f2",
   "metadata": {},
   "outputs": [],
   "source": []
  },
  {
   "cell_type": "code",
   "execution_count": null,
   "id": "35947361-4398-4dec-8c29-6a3d24163298",
   "metadata": {},
   "outputs": [],
   "source": []
  },
  {
   "cell_type": "code",
   "execution_count": null,
   "id": "7657b8da-d406-4d8d-a527-8b595fc6b8aa",
   "metadata": {},
   "outputs": [],
   "source": []
  },
  {
   "cell_type": "code",
   "execution_count": null,
   "id": "c9be993f-78af-4420-b044-560b4618ac02",
   "metadata": {},
   "outputs": [],
   "source": []
  },
  {
   "cell_type": "code",
   "execution_count": null,
   "id": "380e6875-7e49-43b9-bded-a6f3ba24a91a",
   "metadata": {},
   "outputs": [],
   "source": []
  },
  {
   "cell_type": "code",
   "execution_count": null,
   "id": "6753982d-9b93-42b3-87c1-7cddd2ff15d6",
   "metadata": {},
   "outputs": [],
   "source": []
  },
  {
   "cell_type": "code",
   "execution_count": null,
   "id": "817ec207-ad09-4dfd-91a1-f293331c7f6f",
   "metadata": {},
   "outputs": [],
   "source": []
  },
  {
   "cell_type": "code",
   "execution_count": null,
   "id": "76e47ea8-f044-4b65-8ecf-bc662d55294f",
   "metadata": {},
   "outputs": [],
   "source": []
  },
  {
   "cell_type": "code",
   "execution_count": null,
   "id": "f9af67f0-c7c3-4167-8ef2-3159b30bcc56",
   "metadata": {},
   "outputs": [],
   "source": []
  },
  {
   "cell_type": "code",
   "execution_count": null,
   "id": "e4da987f-9c70-4ce0-b375-2a99825d703f",
   "metadata": {},
   "outputs": [],
   "source": []
  },
  {
   "cell_type": "code",
   "execution_count": null,
   "id": "559d047a-7937-4d0a-ba41-55389f6a28cb",
   "metadata": {},
   "outputs": [],
   "source": []
  },
  {
   "cell_type": "code",
   "execution_count": null,
   "id": "97d16e6f-5f88-4804-938c-29a20c2a0c35",
   "metadata": {},
   "outputs": [],
   "source": []
  },
  {
   "cell_type": "code",
   "execution_count": null,
   "id": "9dd88703-3458-4d6c-8fa2-a218590ba5dd",
   "metadata": {},
   "outputs": [],
   "source": []
  },
  {
   "cell_type": "code",
   "execution_count": null,
   "id": "ef510763-14a1-4b91-b241-4b7f116b7566",
   "metadata": {},
   "outputs": [],
   "source": []
  },
  {
   "cell_type": "code",
   "execution_count": null,
   "id": "62e21e4f-6c29-4864-88ad-5d7cc8963b92",
   "metadata": {},
   "outputs": [],
   "source": []
  },
  {
   "cell_type": "code",
   "execution_count": null,
   "id": "451a59c7-a105-4f68-b6a0-185b680b8d9d",
   "metadata": {},
   "outputs": [],
   "source": []
  },
  {
   "cell_type": "code",
   "execution_count": null,
   "id": "3f2c6a9b-735c-414a-8dc9-749987338e2e",
   "metadata": {},
   "outputs": [],
   "source": []
  },
  {
   "cell_type": "code",
   "execution_count": null,
   "id": "934e993a-270d-48cc-99d9-0664fd0d0c24",
   "metadata": {},
   "outputs": [],
   "source": []
  },
  {
   "cell_type": "code",
   "execution_count": null,
   "id": "e38bec94-16ba-47f0-add4-bc81f89e335b",
   "metadata": {},
   "outputs": [],
   "source": []
  },
  {
   "cell_type": "code",
   "execution_count": null,
   "id": "7dabdaf6-3d82-4a9e-8546-9e6638d93607",
   "metadata": {},
   "outputs": [],
   "source": []
  },
  {
   "cell_type": "code",
   "execution_count": null,
   "id": "43fa035b-4dd5-4b40-826e-ed0695805940",
   "metadata": {},
   "outputs": [],
   "source": []
  },
  {
   "cell_type": "code",
   "execution_count": null,
   "id": "17b84cd2-fd24-4bc4-9329-bef505c32a97",
   "metadata": {},
   "outputs": [],
   "source": []
  },
  {
   "cell_type": "code",
   "execution_count": null,
   "id": "64bf1e3d-031a-4a08-8d57-ee30783734a2",
   "metadata": {},
   "outputs": [],
   "source": []
  },
  {
   "cell_type": "code",
   "execution_count": null,
   "id": "7c2ae5ad-7e62-49b0-b4ed-3bcde894be4d",
   "metadata": {},
   "outputs": [],
   "source": []
  },
  {
   "cell_type": "code",
   "execution_count": null,
   "id": "05755974-527d-4a73-b3f0-62f71b53896d",
   "metadata": {},
   "outputs": [],
   "source": []
  },
  {
   "cell_type": "code",
   "execution_count": null,
   "id": "d20b9bae-7e4b-42a6-93a2-0e6643068fd1",
   "metadata": {},
   "outputs": [],
   "source": []
  },
  {
   "cell_type": "code",
   "execution_count": null,
   "id": "338b6ab4-722b-4a0c-ac83-7b9889ab543c",
   "metadata": {},
   "outputs": [],
   "source": []
  }
 ],
 "metadata": {
  "kernelspec": {
   "display_name": "Python 3 (ipykernel)",
   "language": "python",
   "name": "python3"
  },
  "language_info": {
   "codemirror_mode": {
    "name": "ipython",
    "version": 3
   },
   "file_extension": ".py",
   "mimetype": "text/x-python",
   "name": "python",
   "nbconvert_exporter": "python",
   "pygments_lexer": "ipython3",
   "version": "3.11.8"
  }
 },
 "nbformat": 4,
 "nbformat_minor": 5
}
